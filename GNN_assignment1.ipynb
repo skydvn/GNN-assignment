{
  "nbformat": 4,
  "nbformat_minor": 0,
  "metadata": {
    "colab": {
      "provenance": []
    },
    "kernelspec": {
      "name": "python3",
      "display_name": "Python 3"
    },
    "language_info": {
      "name": "python"
    }
  },
  "cells": [
    {
      "cell_type": "code",
      "source": [
        "!pip install torch_geometric"
      ],
      "metadata": {
        "colab": {
          "base_uri": "https://localhost:8080/"
        },
        "id": "STPbGNf3AYPo",
        "outputId": "cb04ca54-28e6-49dd-c291-ac323740ba44"
      },
      "execution_count": 2,
      "outputs": [
        {
          "output_type": "stream",
          "name": "stdout",
          "text": [
            "Looking in indexes: https://pypi.org/simple, https://us-python.pkg.dev/colab-wheels/public/simple/\n",
            "Collecting torch_geometric\n",
            "  Downloading torch_geometric-2.3.0.tar.gz (616 kB)\n",
            "\u001b[2K     \u001b[90m━━━━━━━━━━━━━━━━━━━━━━━━━━━━━━━━━━━━━━\u001b[0m \u001b[32m616.2/616.2 KB\u001b[0m \u001b[31m11.4 MB/s\u001b[0m eta \u001b[36m0:00:00\u001b[0m\n",
            "\u001b[?25h  Installing build dependencies ... \u001b[?25l\u001b[?25hdone\n",
            "  Getting requirements to build wheel ... \u001b[?25l\u001b[?25hdone\n",
            "  Preparing metadata (pyproject.toml) ... \u001b[?25l\u001b[?25hdone\n",
            "Requirement already satisfied: psutil>=5.8.0 in /usr/local/lib/python3.9/dist-packages (from torch_geometric) (5.9.4)\n",
            "Requirement already satisfied: requests in /usr/local/lib/python3.9/dist-packages (from torch_geometric) (2.27.1)\n",
            "Requirement already satisfied: scikit-learn in /usr/local/lib/python3.9/dist-packages (from torch_geometric) (1.2.2)\n",
            "Requirement already satisfied: scipy in /usr/local/lib/python3.9/dist-packages (from torch_geometric) (1.10.1)\n",
            "Requirement already satisfied: jinja2 in /usr/local/lib/python3.9/dist-packages (from torch_geometric) (3.1.2)\n",
            "Requirement already satisfied: numpy in /usr/local/lib/python3.9/dist-packages (from torch_geometric) (1.22.4)\n",
            "Requirement already satisfied: tqdm in /usr/local/lib/python3.9/dist-packages (from torch_geometric) (4.65.0)\n",
            "Requirement already satisfied: pyparsing in /usr/local/lib/python3.9/dist-packages (from torch_geometric) (3.0.9)\n",
            "Requirement already satisfied: MarkupSafe>=2.0 in /usr/local/lib/python3.9/dist-packages (from jinja2->torch_geometric) (2.1.2)\n",
            "Requirement already satisfied: idna<4,>=2.5 in /usr/local/lib/python3.9/dist-packages (from requests->torch_geometric) (3.4)\n",
            "Requirement already satisfied: urllib3<1.27,>=1.21.1 in /usr/local/lib/python3.9/dist-packages (from requests->torch_geometric) (1.26.15)\n",
            "Requirement already satisfied: charset-normalizer~=2.0.0 in /usr/local/lib/python3.9/dist-packages (from requests->torch_geometric) (2.0.12)\n",
            "Requirement already satisfied: certifi>=2017.4.17 in /usr/local/lib/python3.9/dist-packages (from requests->torch_geometric) (2022.12.7)\n",
            "Requirement already satisfied: joblib>=1.1.1 in /usr/local/lib/python3.9/dist-packages (from scikit-learn->torch_geometric) (1.1.1)\n",
            "Requirement already satisfied: threadpoolctl>=2.0.0 in /usr/local/lib/python3.9/dist-packages (from scikit-learn->torch_geometric) (3.1.0)\n",
            "Building wheels for collected packages: torch_geometric\n",
            "  Building wheel for torch_geometric (pyproject.toml) ... \u001b[?25l\u001b[?25hdone\n",
            "  Created wheel for torch_geometric: filename=torch_geometric-2.3.0-py3-none-any.whl size=909897 sha256=bc67b295eb714bc3707857575512e9bf0f3c3b2d973180337233d29fc466242a\n",
            "  Stored in directory: /root/.cache/pip/wheels/cd/7d/6b/17150450b80b4a3656a84330e22709ccd8dc0f8f4773ba4133\n",
            "Successfully built torch_geometric\n",
            "Installing collected packages: torch_geometric\n",
            "Successfully installed torch_geometric-2.3.0\n"
          ]
        }
      ]
    },
    {
      "cell_type": "markdown",
      "source": [
        "#MLP"
      ],
      "metadata": {
        "id": "6ezSbF3aAp3R"
      }
    },
    {
      "cell_type": "code",
      "execution_count": 3,
      "metadata": {
        "colab": {
          "base_uri": "https://localhost:8080/"
        },
        "id": "PyfpOohsy2Bc",
        "outputId": "2decf900-5a57-41b1-8d11-e572f45558b6"
      },
      "outputs": [
        {
          "output_type": "stream",
          "name": "stdout",
          "text": [
            "Number of parameters:  19000\n"
          ]
        }
      ],
      "source": [
        "import torch\n",
        "import torch.nn as nn\n",
        "from torch_geometric.nn import GCNConv\n",
        "\n",
        "# Define the MLP model\n",
        "class MLP(nn.Module):\n",
        "    def __init__(self, input_size, output_size):\n",
        "        super(MLP, self).__init__()\n",
        "        self.fc1 = nn.Linear(input_size, output_size) # Fully connected layer 1\n",
        "        self.relu = nn.ReLU() # Activation function\n",
        "\n",
        "    def forward(self, x):\n",
        "        out = self.fc1(x)\n",
        "        out = self.relu(out)\n",
        "        return out\n",
        "\n",
        "# Set the input, hidden, and output sizes\n",
        "input_size = 75 \n",
        "output_size = 250 \n",
        "\n",
        "# Initialize the MLP model\n",
        "model = MLP(input_size, output_size)\n",
        "\n",
        "# Print the number of parameters in the model\n",
        "num_params = sum(p.numel() for p in model.parameters())\n",
        "print(\"Number of parameters: \", num_params)"
      ]
    },
    {
      "cell_type": "markdown",
      "source": [
        "#CNN"
      ],
      "metadata": {
        "id": "Vzp58XngAomQ"
      }
    },
    {
      "cell_type": "code",
      "source": [
        "class CNN(nn.Module):\n",
        "    def __init__(self):\n",
        "        super(CNN, self).__init__()\n",
        "        self.conv1 = nn.Conv2d(in_channels=3, out_channels=10, kernel_size=3, padding=1)\n",
        "        self.relu = nn.ReLU(inplace=True)\n",
        "\n",
        "    def forward(self, x):\n",
        "        x = self.conv1(x)\n",
        "        x = self.relu(x)\n",
        "        return x\n",
        "\n",
        "# Create an instance of the CNN model\n",
        "model = CNN()\n",
        "\n",
        "# Create an input tensor of size (5, 5, 3)\n",
        "input_tensor = torch.rand((1, 3, 5, 5))\n",
        "\n",
        "# Pass the input tensor through the model to get an output tensor of size (5, 5, 10)\n",
        "output_tensor = model(input_tensor)\n",
        "\n",
        "# Print the number of parameters in the model\n",
        "num_params = sum(p.numel() for p in model.parameters())\n",
        "print(\"Number of parameters: \", num_params)"
      ],
      "metadata": {
        "colab": {
          "base_uri": "https://localhost:8080/"
        },
        "id": "V7E_78s4_vLn",
        "outputId": "eb50d9c4-d524-4a33-aed7-62b1d9304522"
      },
      "execution_count": 4,
      "outputs": [
        {
          "output_type": "stream",
          "name": "stdout",
          "text": [
            "Number of parameters:  280\n"
          ]
        }
      ]
    },
    {
      "cell_type": "markdown",
      "source": [
        "# RNN"
      ],
      "metadata": {
        "id": "fqALw2urAmrd"
      }
    },
    {
      "cell_type": "code",
      "source": [
        "class RNN(nn.Module):\n",
        "    def __init__(self):\n",
        "        super(RNN, self).__init__()\n",
        "        self.rnn = nn.RNN(input_size=3, hidden_size=10, num_layers=1, batch_first=True)\n",
        "\n",
        "    def forward(self, x):\n",
        "        # Initialize hidden state\n",
        "        h0 = torch.zeros(1, x.size(0), 10)\n",
        "\n",
        "        # Pass input tensor and initial hidden state through RNN\n",
        "        out, hn = self.rnn(x, h0)\n",
        "\n",
        "        return out\n",
        "\n",
        "# Create an instance of the RNN model\n",
        "model = RNN()\n",
        "\n",
        "# Create an input tensor of size (batch_size=1, timesteps=25, input_size=3)\n",
        "input_tensor = torch.rand((1, 25, 3))\n",
        "\n",
        "# Pass the input tensor through the model to get an output tensor of size (batch_size=1, timesteps=25, hidden_size=10)\n",
        "output_tensor = model(input_tensor)\n",
        "print(output_tensor.size())  \n",
        "\n",
        "# Print the number of parameters in the model\n",
        "num_params = sum(p.numel() for p in model.parameters())\n",
        "print(\"Number of parameters: \", num_params)"
      ],
      "metadata": {
        "colab": {
          "base_uri": "https://localhost:8080/"
        },
        "id": "paY_Jx3-_x5K",
        "outputId": "a6fe0dfb-8eb9-4447-f3bf-dc55b1ae1ec0"
      },
      "execution_count": 5,
      "outputs": [
        {
          "output_type": "stream",
          "name": "stdout",
          "text": [
            "torch.Size([1, 25, 10])\n",
            "Number of parameters:  150\n"
          ]
        }
      ]
    },
    {
      "cell_type": "markdown",
      "source": [
        "### GNN "
      ],
      "metadata": {
        "id": "_38e6NI1Aj3_"
      }
    },
    {
      "cell_type": "code",
      "source": [
        "import torch_geometric.nn as gnn\n",
        "\n",
        "class GNN(nn.Module):\n",
        "    def __init__(self):\n",
        "        super(GNN, self).__init__()\n",
        "        self.conv1 = gnn.GCNConv(in_channels=3, out_channels=10)\n",
        "\n",
        "    def forward(self, x, edge_index):\n",
        "        # Create a data object with the input features and edge indices\n",
        "        data = Data(x=x, edge_index=edge_index)\n",
        "\n",
        "        # Pass the data object through the GCN layer\n",
        "        x = self.conv1(data.x, data.edge_index)\n",
        "\n",
        "        return x\n",
        "\n",
        "# Create an instance of the GNN model\n",
        "model = GNN()\n",
        "# Print the number of parameters in the model\n",
        "num_params = sum(p.numel() for p in model.parameters())\n",
        "print(\"Number of parameters: \", num_params)"
      ],
      "metadata": {
        "colab": {
          "base_uri": "https://localhost:8080/"
        },
        "id": "h4HaKC9zAXGb",
        "outputId": "db79d911-acdd-4b90-f02a-a9c429d455a8"
      },
      "execution_count": 7,
      "outputs": [
        {
          "output_type": "stream",
          "name": "stdout",
          "text": [
            "Number of parameters:  40\n"
          ]
        }
      ]
    }
  ]
}