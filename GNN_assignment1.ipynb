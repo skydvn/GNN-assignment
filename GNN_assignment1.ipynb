{
  "nbformat": 4,
  "nbformat_minor": 0,
  "metadata": {
    "colab": {
      "provenance": []
    },
    "kernelspec": {
      "name": "python3",
      "display_name": "Python 3"
    },
    "language_info": {
      "name": "python"
    }
  },
  "cells": [
    {
      "cell_type": "code",
      "source": [
        "!pip install torch_geometric"
      ],
      "metadata": {
        "colab": {
          "base_uri": "https://localhost:8080/"
        },
        "id": "STPbGNf3AYPo",
        "outputId": "80f0dde0-2084-4903-c647-b1c8c0115281"
      },
      "execution_count": 5,
      "outputs": [
        {
          "output_type": "stream",
          "name": "stdout",
          "text": [
            "Looking in indexes: https://pypi.org/simple, https://us-python.pkg.dev/colab-wheels/public/simple/\n",
            "Collecting torch_geometric\n",
            "  Downloading torch_geometric-2.3.0.tar.gz (616 kB)\n",
            "\u001b[?25l     \u001b[90m━━━━━━━━━━━━━━━━━━━━━━━━━━━━━━━━━━━━━━━━\u001b[0m \u001b[32m0.0/616.2 KB\u001b[0m \u001b[31m?\u001b[0m eta \u001b[36m-:--:--\u001b[0m\r\u001b[2K     \u001b[90m━━━━━━━━━━━━━━━━━━━━━━━━━━━━━━━━━━━━━━\u001b[0m \u001b[32m616.2/616.2 KB\u001b[0m \u001b[31m32.6 MB/s\u001b[0m eta \u001b[36m0:00:00\u001b[0m\n",
            "\u001b[?25h  Installing build dependencies ... \u001b[?25l\u001b[?25hdone\n",
            "  Getting requirements to build wheel ... \u001b[?25l\u001b[?25hdone\n",
            "  Preparing metadata (pyproject.toml) ... \u001b[?25l\u001b[?25hdone\n",
            "Requirement already satisfied: scikit-learn in /usr/local/lib/python3.9/dist-packages (from torch_geometric) (1.2.2)\n",
            "Requirement already satisfied: scipy in /usr/local/lib/python3.9/dist-packages (from torch_geometric) (1.10.1)\n",
            "Requirement already satisfied: numpy in /usr/local/lib/python3.9/dist-packages (from torch_geometric) (1.22.4)\n",
            "Requirement already satisfied: requests in /usr/local/lib/python3.9/dist-packages (from torch_geometric) (2.27.1)\n",
            "Requirement already satisfied: pyparsing in /usr/local/lib/python3.9/dist-packages (from torch_geometric) (3.0.9)\n",
            "Requirement already satisfied: jinja2 in /usr/local/lib/python3.9/dist-packages (from torch_geometric) (3.1.2)\n",
            "Requirement already satisfied: tqdm in /usr/local/lib/python3.9/dist-packages (from torch_geometric) (4.65.0)\n",
            "Requirement already satisfied: psutil>=5.8.0 in /usr/local/lib/python3.9/dist-packages (from torch_geometric) (5.9.4)\n",
            "Requirement already satisfied: MarkupSafe>=2.0 in /usr/local/lib/python3.9/dist-packages (from jinja2->torch_geometric) (2.1.2)\n",
            "Requirement already satisfied: charset-normalizer~=2.0.0 in /usr/local/lib/python3.9/dist-packages (from requests->torch_geometric) (2.0.12)\n",
            "Requirement already satisfied: certifi>=2017.4.17 in /usr/local/lib/python3.9/dist-packages (from requests->torch_geometric) (2022.12.7)\n",
            "Requirement already satisfied: idna<4,>=2.5 in /usr/local/lib/python3.9/dist-packages (from requests->torch_geometric) (3.4)\n",
            "Requirement already satisfied: urllib3<1.27,>=1.21.1 in /usr/local/lib/python3.9/dist-packages (from requests->torch_geometric) (1.26.15)\n",
            "Requirement already satisfied: threadpoolctl>=2.0.0 in /usr/local/lib/python3.9/dist-packages (from scikit-learn->torch_geometric) (3.1.0)\n",
            "Requirement already satisfied: joblib>=1.1.1 in /usr/local/lib/python3.9/dist-packages (from scikit-learn->torch_geometric) (1.1.1)\n",
            "Building wheels for collected packages: torch_geometric\n",
            "  Building wheel for torch_geometric (pyproject.toml) ... \u001b[?25l\u001b[?25hdone\n",
            "  Created wheel for torch_geometric: filename=torch_geometric-2.3.0-py3-none-any.whl size=909897 sha256=d54188c486fe9be404a10240f9dc437c62255fcd312bcef7326a927e363fb704\n",
            "  Stored in directory: /root/.cache/pip/wheels/cd/7d/6b/17150450b80b4a3656a84330e22709ccd8dc0f8f4773ba4133\n",
            "Successfully built torch_geometric\n",
            "Installing collected packages: torch_geometric\n",
            "Successfully installed torch_geometric-2.3.0\n"
          ]
        }
      ]
    },
    {
      "cell_type": "markdown",
      "source": [
        "#MLP"
      ],
      "metadata": {
        "id": "6ezSbF3aAp3R"
      }
    },
    {
      "cell_type": "code",
      "execution_count": 6,
      "metadata": {
        "colab": {
          "base_uri": "https://localhost:8080/"
        },
        "id": "PyfpOohsy2Bc",
        "outputId": "62f9f6f2-8ee7-4ce8-a3e2-cf57589f67b7"
      },
      "outputs": [
        {
          "output_type": "stream",
          "name": "stdout",
          "text": [
            "Number of parameters:  203530\n"
          ]
        }
      ],
      "source": [
        "import torch\n",
        "import torch.nn as nn\n",
        "from torch_geometric.nn import GCNConv\n",
        "\n",
        "# Define the MLP model\n",
        "class MLP(nn.Module):\n",
        "    def __init__(self, input_size, hidden_size, output_size):\n",
        "        super(MLP, self).__init__()\n",
        "        self.fc1 = nn.Linear(input_size, hidden_size) # Fully connected layer 1\n",
        "        self.relu = nn.ReLU() # Activation function\n",
        "        self.fc2 = nn.Linear(hidden_size, output_size) # Fully connected layer 2\n",
        "\n",
        "    def forward(self, x):\n",
        "        out = self.fc1(x)\n",
        "        out = self.relu(out)\n",
        "        out = self.fc2(out)\n",
        "        return out\n",
        "\n",
        "# Set the input, hidden, and output sizes\n",
        "input_size = 784 # MNIST dataset input size\n",
        "hidden_size = 256 # Number of neurons in the hidden layer\n",
        "output_size = 10 # Number of classes (0-9) in MNIST dataset\n",
        "\n",
        "# Initialize the MLP model\n",
        "model = MLP(input_size, hidden_size, output_size)\n",
        "\n",
        "# Print the number of parameters in the model\n",
        "num_params = sum(p.numel() for p in model.parameters())\n",
        "print(\"Number of parameters: \", num_params)"
      ]
    },
    {
      "cell_type": "markdown",
      "source": [
        "#CNN"
      ],
      "metadata": {
        "id": "Vzp58XngAomQ"
      }
    },
    {
      "cell_type": "code",
      "source": [
        "# Define the CNN model\n",
        "class CNN(nn.Module):\n",
        "    def __init__(self):\n",
        "        super(CNN, self).__init__()\n",
        "        self.conv1 = nn.Conv2d(1, 32, kernel_size=3)  # Input layer\n",
        "        self.relu = nn.ReLU()  # Activation function\n",
        "        self.fc1 = nn.Linear(32*26*26, 256)  # Hidden layer\n",
        "        self.fc2 = nn.Linear(256, 10)  # Output layer\n",
        "\n",
        "    def forward(self, x):\n",
        "        out = self.conv1(x)\n",
        "        out = self.relu(out)\n",
        "        out = out.view(-1, 32*26*26)\n",
        "        out = self.fc1(out)\n",
        "        out = self.relu(out)\n",
        "        out = self.fc2(out)\n",
        "        return out\n",
        "\n",
        "# Set the input, hidden, and output sizes\n",
        "input_size = (1, 28, 28)  # MNIST dataset input size\n",
        "hidden_size = 256  # Number of neurons in the hidden layer\n",
        "output_size = 10  # Number of classes (0-9) in MNIST dataset\n",
        "\n",
        "# Initialize the CNN model\n",
        "model = CNN()\n",
        "\n",
        "# Print the number of parameters in the model\n",
        "num_params = sum(p.numel() for p in model.parameters())\n",
        "print(\"Number of parameters: \", num_params)"
      ],
      "metadata": {
        "colab": {
          "base_uri": "https://localhost:8080/"
        },
        "id": "V7E_78s4_vLn",
        "outputId": "d32f78a2-72a4-4482-dbf8-594d1f2ddb6f"
      },
      "execution_count": 3,
      "outputs": [
        {
          "output_type": "stream",
          "name": "stdout",
          "text": [
            "Number of parameters:  5540938\n"
          ]
        }
      ]
    },
    {
      "cell_type": "markdown",
      "source": [
        "# RNN"
      ],
      "metadata": {
        "id": "fqALw2urAmrd"
      }
    },
    {
      "cell_type": "code",
      "source": [
        "# Define the RNN model\n",
        "class RNN(nn.Module):\n",
        "    def __init__(self, input_size, hidden_size, output_size):\n",
        "        super(RNN, self).__init__()\n",
        "        self.input_size = input_size\n",
        "        self.hidden_size = hidden_size\n",
        "        self.output_size = output_size\n",
        "        self.fc1 = nn.Linear(input_size, hidden_size)  # Input layer\n",
        "        self.rnn = nn.LSTM(hidden_size, hidden_size, num_layers=1, batch_first=True)  # Hidden layer\n",
        "        self.fc2 = nn.Linear(hidden_size, output_size)  # Output layer\n",
        "\n",
        "    def forward(self, x, h0=None, c0=None):\n",
        "        out = self.fc1(x)\n",
        "        out, (hn, cn) = self.rnn(out, (h0, c0))\n",
        "        out = self.fc2(out[:, -1, :])\n",
        "        return out\n",
        "\n",
        "# Set the input, hidden, and output sizes\n",
        "input_size = 784  # MNIST dataset input size (28*28)\n",
        "hidden_size = 256  # Number of neurons in the hidden layer\n",
        "output_size = 10  # Number of classes (0-9) in MNIST dataset\n",
        "\n",
        "# Initialize the RNN model\n",
        "model = RNN(input_size, hidden_size, output_size)\n",
        "\n",
        "# Print the number of parameters in the model\n",
        "num_params = sum(p.numel() for p in model.parameters())\n",
        "print(\"Number of parameters: \", num_params)"
      ],
      "metadata": {
        "colab": {
          "base_uri": "https://localhost:8080/"
        },
        "id": "paY_Jx3-_x5K",
        "outputId": "9fa01ba2-bf2f-4815-b0f1-4d1358d7998a"
      },
      "execution_count": 4,
      "outputs": [
        {
          "output_type": "stream",
          "name": "stdout",
          "text": [
            "Number of parameters:  729866\n"
          ]
        }
      ]
    },
    {
      "cell_type": "markdown",
      "source": [
        "### GNN "
      ],
      "metadata": {
        "id": "_38e6NI1Aj3_"
      }
    },
    {
      "cell_type": "code",
      "source": [
        "# Define the GNN model\n",
        "class GNN(nn.Module):\n",
        "    def __init__(self, input_size, hidden_size, output_size):\n",
        "        super(GNN, self).__init__()\n",
        "        self.input_size = input_size\n",
        "        self.hidden_size = hidden_size\n",
        "        self.output_size = output_size\n",
        "        self.conv1 = GCNConv(input_size, hidden_size)  # Input layer\n",
        "        self.conv2 = GCNConv(hidden_size, hidden_size)  # Hidden layer\n",
        "        self.conv3 = GCNConv(hidden_size, output_size)  # Output layer\n",
        "\n",
        "    def forward(self, x, edge_index):\n",
        "        x = self.conv1(x, edge_index)\n",
        "        x = torch.relu(x)\n",
        "        x = self.conv2(x, edge_index)\n",
        "        x = torch.relu(x)\n",
        "        x = self.conv3(x, edge_index)\n",
        "        return x\n",
        "\n",
        "# Set the input, hidden, and output sizes\n",
        "input_size = 784  # MNIST dataset input size (28*28)\n",
        "hidden_size = 256  # Number of neurons in the hidden layer\n",
        "output_size = 10  # Number of classes (0-9) in MNIST dataset\n",
        "\n",
        "# Initialize the GNN model\n",
        "model = GNN(input_size, hidden_size, output_size)\n",
        "\n",
        "# Print the number of parameters in the model\n",
        "num_params = sum(p.numel() for p in model.parameters())\n",
        "print(\"Number of parameters: \", num_params)"
      ],
      "metadata": {
        "colab": {
          "base_uri": "https://localhost:8080/"
        },
        "id": "h4HaKC9zAXGb",
        "outputId": "d54200f7-415c-4e35-8f1f-63f6f16ec145"
      },
      "execution_count": 8,
      "outputs": [
        {
          "output_type": "stream",
          "name": "stdout",
          "text": [
            "Number of parameters:  269322\n"
          ]
        }
      ]
    }
  ]
}